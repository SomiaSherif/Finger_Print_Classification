{
 "cells": [
  {
   "cell_type": "code",
   "execution_count": 1,
   "id": "d1ae42ef",
   "metadata": {
    "execution": {
     "iopub.execute_input": "2021-12-03T01:37:24.724657Z",
     "iopub.status.busy": "2021-12-03T01:37:24.723570Z",
     "iopub.status.idle": "2021-12-03T01:38:24.126887Z",
     "shell.execute_reply": "2021-12-03T01:38:24.127544Z",
     "shell.execute_reply.started": "2021-12-03T00:34:12.275792Z"
    },
    "papermill": {
     "duration": 59.449627,
     "end_time": "2021-12-03T01:38:24.127890",
     "exception": false,
     "start_time": "2021-12-03T01:37:24.678263",
     "status": "completed"
    },
    "scrolled": false,
    "tags": []
   },
   "outputs": [
    {
     "name": "stdout",
     "output_type": "stream",
     "text": [
      "^C\n",
      "Note: you may need to restart the kernel to use updated packages.\n"
     ]
    }
   ],
   "source": [
    "pip install google-colab"
   ]
  },
  {
   "cell_type": "markdown",
   "id": "7d464012",
   "metadata": {
    "papermill": {
     "duration": 0.078513,
     "end_time": "2021-12-03T01:38:24.288010",
     "exception": false,
     "start_time": "2021-12-03T01:38:24.209497",
     "status": "completed"
    },
    "tags": []
   },
   "source": [
    "# **Import from libraries**"
   ]
  },
  {
   "cell_type": "code",
   "execution_count": 27,
   "id": "dd3b0155",
   "metadata": {
    "execution": {
     "iopub.execute_input": "2021-12-03T01:38:24.457724Z",
     "iopub.status.busy": "2021-12-03T01:38:24.456124Z",
     "iopub.status.idle": "2021-12-03T01:38:30.894008Z",
     "shell.execute_reply": "2021-12-03T01:38:30.895010Z",
     "shell.execute_reply.started": "2021-12-03T00:34:21.908429Z"
    },
    "papermill": {
     "duration": 6.527188,
     "end_time": "2021-12-03T01:38:30.895290",
     "exception": false,
     "start_time": "2021-12-03T01:38:24.368102",
     "status": "completed"
    },
    "tags": []
   },
   "outputs": [],
   "source": [
    "import tensorflow as tf\n",
    "from tensorflow.keras.models import Sequential\n",
    "from tensorflow.keras.layers import Conv2D, MaxPooling2D, Flatten, Dense\n",
    "from tensorflow.keras.preprocessing.image import ImageDataGenerator\n",
    "import matplotlib.pyplot as plt\n",
    "import seaborn as sns\n",
    "import numpy as np\n",
    "import cv2\n",
    "#from google.colab.patches import cv2_imshow"
   ]
  },
  {
   "cell_type": "markdown",
   "id": "a644e17a",
   "metadata": {
    "papermill": {
     "duration": 0.080052,
     "end_time": "2021-12-03T01:38:31.058245",
     "exception": false,
     "start_time": "2021-12-03T01:38:30.978193",
     "status": "completed"
    },
    "tags": []
   },
   "source": [
    "# **Uploading the images**"
   ]
  },
  {
   "cell_type": "code",
   "execution_count": 28,
   "id": "7fcd4282",
   "metadata": {
    "execution": {
     "iopub.execute_input": "2021-12-03T01:38:31.230212Z",
     "iopub.status.busy": "2021-12-03T01:38:31.227998Z",
     "iopub.status.idle": "2021-12-03T01:38:31.230929Z",
     "shell.execute_reply": "2021-12-03T01:38:31.231499Z",
     "shell.execute_reply.started": "2021-12-03T00:34:21.915906Z"
    },
    "papermill": {
     "duration": 0.093284,
     "end_time": "2021-12-03T01:38:31.231690",
     "exception": false,
     "start_time": "2021-12-03T01:38:31.138406",
     "status": "completed"
    },
    "tags": []
   },
   "outputs": [],
   "source": [
    "path = 'D:\\Anaconda\\Projects\\SOCOFing\\Altered'"
   ]
  },
  {
   "cell_type": "code",
   "execution_count": 29,
   "id": "5078ce67",
   "metadata": {
    "execution": {
     "iopub.execute_input": "2021-12-03T01:38:31.399686Z",
     "iopub.status.busy": "2021-12-03T01:38:31.398946Z",
     "iopub.status.idle": "2021-12-03T01:38:31.555135Z",
     "shell.execute_reply": "2021-12-03T01:38:31.555671Z",
     "shell.execute_reply.started": "2021-12-03T00:34:21.935502Z"
    },
    "papermill": {
     "duration": 0.24266,
     "end_time": "2021-12-03T01:38:31.555855",
     "exception": false,
     "start_time": "2021-12-03T01:38:31.313195",
     "status": "completed"
    },
    "tags": []
   },
   "outputs": [
    {
     "data": {
      "image/png": "[encoded data removed]",
      "text/plain": [
       "<PIL.Image.Image image mode=RGB size=96x103 at 0x1D530CD1A90>"
      ]
     },
     "execution_count": 29,
     "metadata": {},
     "output_type": "execute_result"
    }
   ],
   "source": [
    "tf.keras.preprocessing.image.load_img('D:\\Anaconda\\Projects/SOCOFing/Altered/Altered-Easy/10__M_Left_index_finger_CR.BMP')"
   ]
  },
  {
   "cell_type": "markdown",
   "id": "4512ef11",
   "metadata": {
    "papermill": {
     "duration": 0.109796,
     "end_time": "2021-12-03T01:38:32.448434",
     "exception": false,
     "start_time": "2021-12-03T01:38:32.338638",
     "status": "completed"
    },
    "tags": []
   },
   "source": [
    "# **Training and Testing Basis**"
   ]
  },
  {
   "cell_type": "code",
   "execution_count": 33,
   "id": "17f76938",
   "metadata": {
    "execution": {
     "iopub.execute_input": "2021-12-03T01:38:32.675581Z",
     "iopub.status.busy": "2021-12-03T01:38:32.674807Z",
     "iopub.status.idle": "2021-12-03T01:38:48.118169Z",
     "shell.execute_reply": "2021-12-03T01:38:48.117600Z",
     "shell.execute_reply.started": "2021-12-03T00:34:22.297981Z"
    },
    "papermill": {
     "duration": 15.560377,
     "end_time": "2021-12-03T01:38:48.118324",
     "exception": false,
     "start_time": "2021-12-03T01:38:32.557947",
     "status": "completed"
    },
    "tags": []
   },
   "outputs": [
    {
     "name": "stdout",
     "output_type": "stream",
     "text": [
      "Found 49270 images belonging to 3 classes.\n"
     ]
    }
   ],
   "source": [
    "training_generator = ImageDataGenerator(rescale=1./255,\n",
    "                                        rotation_range=7,\n",
    "                                        horizontal_flip=True,\n",
    "                                        zoom_range=0.2)\n",
    "training_dataset = training_generator.flow_from_directory('D:\\Anaconda\\Projects\\SOCOFing\\Altered',\n",
    "                                                        target_size = (64, 64),\n",
    "                                                        batch_size = 32,\n",
    "                                                        class_mode = 'categorical',\n",
    "                                                        shuffle = True)"
   ]
  },
  {
   "cell_type": "code",
   "execution_count": 34,
   "id": "6bc41ad1",
   "metadata": {
    "execution": {
     "iopub.execute_input": "2021-12-03T01:38:48.344755Z",
     "iopub.status.busy": "2021-12-03T01:38:48.343871Z",
     "iopub.status.idle": "2021-12-03T01:38:48.347476Z",
     "shell.execute_reply": "2021-12-03T01:38:48.348015Z",
     "shell.execute_reply.started": "2021-12-03T00:34:24.845926Z"
    },
    "papermill": {
     "duration": 0.121342,
     "end_time": "2021-12-03T01:38:48.348220",
     "exception": false,
     "start_time": "2021-12-03T01:38:48.226878",
     "status": "completed"
    },
    "tags": []
   },
   "outputs": [
    {
     "data": {
      "text/plain": [
       "array([0, 0, 0, ..., 2, 2, 2])"
      ]
     },
     "execution_count": 34,
     "metadata": {},
     "output_type": "execute_result"
    }
   ],
   "source": [
    "training_dataset.classes"
   ]
  },
  {
   "cell_type": "code",
   "execution_count": 35,
   "id": "e4a43116",
   "metadata": {
    "execution": {
     "iopub.execute_input": "2021-12-03T01:38:48.574546Z",
     "iopub.status.busy": "2021-12-03T01:38:48.573674Z",
     "iopub.status.idle": "2021-12-03T01:38:48.577261Z",
     "shell.execute_reply": "2021-12-03T01:38:48.577806Z",
     "shell.execute_reply.started": "2021-12-03T00:34:24.853968Z"
    },
    "papermill": {
     "duration": 0.119489,
     "end_time": "2021-12-03T01:38:48.578007",
     "exception": false,
     "start_time": "2021-12-03T01:38:48.458518",
     "status": "completed"
    },
    "tags": []
   },
   "outputs": [
    {
     "data": {
      "text/plain": [
       "{'Altered-Easy': 0, 'Altered-Hard': 1, 'Altered-Medium': 2}"
      ]
     },
     "execution_count": 35,
     "metadata": {},
     "output_type": "execute_result"
    }
   ],
   "source": [
    "training_dataset.class_indices"
   ]
  },
  {
   "cell_type": "code",
   "execution_count": 36,
   "id": "a1483533",
   "metadata": {
    "execution": {
     "iopub.execute_input": "2021-12-03T01:38:48.804796Z",
     "iopub.status.busy": "2021-12-03T01:38:48.803864Z",
     "iopub.status.idle": "2021-12-03T01:38:49.219144Z",
     "shell.execute_reply": "2021-12-03T01:38:49.219986Z",
     "shell.execute_reply.started": "2021-12-03T00:34:24.866261Z"
    },
    "papermill": {
     "duration": 0.5319,
     "end_time": "2021-12-03T01:38:49.220268",
     "exception": false,
     "start_time": "2021-12-03T01:38:48.688368",
     "status": "completed"
    },
    "tags": []
   },
   "outputs": [
    {
     "name": "stdout",
     "output_type": "stream",
     "text": [
      "Found 49270 images belonging to 3 classes.\n"
     ]
    }
   ],
   "source": [
    "test_generator = ImageDataGenerator(rescale=1./255)\n",
    "test_dataset = test_generator.flow_from_directory('D:\\Anaconda\\Projects\\SOCOFing\\SOCOFing\\Altered',\n",
    "                                                     target_size = (64, 64),\n",
    "                                                     batch_size = 1,\n",
    "                                                     class_mode = 'categorical',\n",
    "                                                     shuffle = False)"
   ]
  },
  {
   "cell_type": "markdown",
   "id": "07f9ab6d",
   "metadata": {
    "papermill": {
     "duration": 0.109627,
     "end_time": "2021-12-03T01:38:49.441268",
     "exception": false,
     "start_time": "2021-12-03T01:38:49.331641",
     "status": "completed"
    },
    "tags": []
   },
   "source": [
    "# **Construction and training of the neural network**"
   ]
  },
  {
   "cell_type": "code",
   "execution_count": 37,
   "id": "81ef8cd9",
   "metadata": {
    "execution": {
     "iopub.execute_input": "2021-12-03T01:38:49.671913Z",
     "iopub.status.busy": "2021-12-03T01:38:49.671031Z",
     "iopub.status.idle": "2021-12-03T01:38:52.891121Z",
     "shell.execute_reply": "2021-12-03T01:38:52.890144Z",
     "shell.execute_reply.started": "2021-12-03T00:34:24.97969Z"
    },
    "papermill": {
     "duration": 3.339198,
     "end_time": "2021-12-03T01:38:52.891285",
     "exception": false,
     "start_time": "2021-12-03T01:38:49.552087",
     "status": "completed"
    },
    "tags": []
   },
   "outputs": [],
   "source": [
    "network = Sequential()\n",
    "network.add(Conv2D(32, (3,3), input_shape = (64,64,3), activation='relu'))\n",
    "network.add(MaxPooling2D(pool_size=(2,2)))\n",
    "\n",
    "network.add(Conv2D(32, (3,3), activation='relu'))\n",
    "network.add(MaxPooling2D(pool_size=(2,2)))\n",
    "\n",
    "network.add(Flatten())\n",
    "\n",
    "network.add(Dense(units = 7317, activation='relu'))\n",
    "network.add(Dense(units = 7317, activation='relu'))\n",
    "network.add(Dense(units = 3, activation='softmax'))"
   ]
  },
  {
   "cell_type": "code",
   "execution_count": 38,
   "id": "c705aa88",
   "metadata": {
    "execution": {
     "iopub.execute_input": "2021-12-03T01:38:53.123286Z",
     "iopub.status.busy": "2021-12-03T01:38:53.122168Z",
     "iopub.status.idle": "2021-12-03T01:38:53.133192Z",
     "shell.execute_reply": "2021-12-03T01:38:53.132313Z",
     "shell.execute_reply.started": "2021-12-03T00:34:25.03991Z"
    },
    "papermill": {
     "duration": 0.129379,
     "end_time": "2021-12-03T01:38:53.133411",
     "exception": false,
     "start_time": "2021-12-03T01:38:53.004032",
     "status": "completed"
    },
    "tags": []
   },
   "outputs": [
    {
     "name": "stdout",
     "output_type": "stream",
     "text": [
      "Model: \"sequential_1\"\n",
      "_________________________________________________________________\n",
      " Layer (type)                Output Shape              Param #   \n",
      "=================================================================\n",
      " conv2d_2 (Conv2D)           (None, 62, 62, 32)        896       \n",
      "                                                                 \n",
      " max_pooling2d_2 (MaxPooling  (None, 31, 31, 32)       0         \n",
      " 2D)                                                             \n",
      "                                                                 \n",
      " conv2d_3 (Conv2D)           (None, 29, 29, 32)        9248      \n",
      "                                                                 \n",
      " max_pooling2d_3 (MaxPooling  (None, 14, 14, 32)       0         \n",
      " 2D)                                                             \n",
      "                                                                 \n",
      " flatten_1 (Flatten)         (None, 6272)              0         \n",
      "                                                                 \n",
      " dense_3 (Dense)             (None, 7317)              45899541  \n",
      "                                                                 \n",
      " dense_4 (Dense)             (None, 7317)              53545806  \n",
      "                                                                 \n",
      " dense_5 (Dense)             (None, 3)                 21954     \n",
      "                                                                 \n",
      "=================================================================\n",
      "Total params: 99,477,445\n",
      "Trainable params: 99,477,445\n",
      "Non-trainable params: 0\n",
      "_________________________________________________________________\n"
     ]
    }
   ],
   "source": [
    "network.summary()"
   ]
  },
  {
   "cell_type": "code",
   "execution_count": 39,
   "id": "7a0bfdf2",
   "metadata": {
    "execution": {
     "iopub.execute_input": "2021-12-03T01:38:53.376888Z",
     "iopub.status.busy": "2021-12-03T01:38:53.375459Z",
     "iopub.status.idle": "2021-12-03T01:38:53.385816Z",
     "shell.execute_reply": "2021-12-03T01:38:53.385224Z",
     "shell.execute_reply.started": "2021-12-03T00:34:25.052248Z"
    },
    "papermill": {
     "duration": 0.137046,
     "end_time": "2021-12-03T01:38:53.385966",
     "exception": false,
     "start_time": "2021-12-03T01:38:53.248920",
     "status": "completed"
    },
    "tags": []
   },
   "outputs": [],
   "source": [
    "network.compile(optimizer='Adam', loss='categorical_crossentropy', metrics = ['accuracy'])"
   ]
  },
  {
   "cell_type": "code",
   "execution_count": 40,
   "id": "b919fc3e",
   "metadata": {
    "execution": {
     "iopub.execute_input": "2021-12-03T01:38:53.617258Z",
     "iopub.status.busy": "2021-12-03T01:38:53.616404Z",
     "iopub.status.idle": "2021-12-03T02:15:58.367213Z",
     "shell.execute_reply": "2021-12-03T02:15:58.366526Z",
     "shell.execute_reply.started": "2021-12-03T00:34:25.063562Z"
    },
    "papermill": {
     "duration": 2224.86806,
     "end_time": "2021-12-03T02:15:58.367391",
     "exception": false,
     "start_time": "2021-12-03T01:38:53.499331",
     "status": "completed"
    },
    "tags": []
   },
   "outputs": [
    {
     "name": "stdout",
     "output_type": "stream",
     "text": [
      "Epoch 1/2\n",
      "1540/1540 [==============================] - 1872s 1s/step - loss: 0.9724 - accuracy: 0.5225\n",
      "Epoch 2/2\n",
      "1540/1540 [==============================] - 1251s 812ms/step - loss: 0.8156 - accuracy: 0.6049\n"
     ]
    }
   ],
   "source": [
    "historic = network.fit(training_dataset, epochs=2)"
   ]
  },
  {
   "cell_type": "markdown",
   "id": "1abda9a7",
   "metadata": {
    "papermill": {
     "duration": 4.250468,
     "end_time": "2021-12-03T02:16:05.938959",
     "exception": false,
     "start_time": "2021-12-03T02:16:01.688491",
     "status": "completed"
    },
    "tags": []
   },
   "source": [
    "# **Neural network evaluation**"
   ]
  },
  {
   "cell_type": "code",
   "execution_count": 41,
   "id": "ac3c8845",
   "metadata": {
    "execution": {
     "iopub.execute_input": "2021-12-03T02:16:12.681176Z",
     "iopub.status.busy": "2021-12-03T02:16:12.680253Z",
     "iopub.status.idle": "2021-12-03T02:16:12.684115Z",
     "shell.execute_reply": "2021-12-03T02:16:12.684702Z",
     "shell.execute_reply.started": "2021-12-03T00:47:27.000215Z"
    },
    "papermill": {
     "duration": 3.376927,
     "end_time": "2021-12-03T02:16:12.684886",
     "exception": false,
     "start_time": "2021-12-03T02:16:09.307959",
     "status": "completed"
    },
    "tags": []
   },
   "outputs": [
    {
     "data": {
      "text/plain": [
       "{'Altered-Easy': 0, 'Altered-Hard': 1, 'Altered-Medium': 2}"
      ]
     },
     "execution_count": 41,
     "metadata": {},
     "output_type": "execute_result"
    }
   ],
   "source": [
    "test_dataset.class_indices"
   ]
  },
  {
   "cell_type": "code",
   "execution_count": 42,
   "id": "dc9e3d2d",
   "metadata": {
    "execution": {
     "iopub.execute_input": "2021-12-03T02:16:19.673813Z",
     "iopub.status.busy": "2021-12-03T02:16:19.673098Z",
     "iopub.status.idle": "2021-12-03T02:16:40.810680Z",
     "shell.execute_reply": "2021-12-03T02:16:40.811289Z",
     "shell.execute_reply.started": "2021-12-03T00:47:27.007493Z"
    },
    "papermill": {
     "duration": 24.65639,
     "end_time": "2021-12-03T02:16:40.811487",
     "exception": false,
     "start_time": "2021-12-03T02:16:16.155097",
     "status": "completed"
    },
    "tags": []
   },
   "outputs": [
    {
     "data": {
      "text/plain": [
       "array([[9.9699318e-01, 1.5951120e-04, 2.8473381e-03],\n",
       "       [9.0634370e-01, 1.2081660e-02, 8.1574611e-02],\n",
       "       [9.9607337e-01, 2.0068799e-04, 3.7260139e-03],\n",
       "       ...,\n",
       "       [8.7040561e-01, 1.6236268e-02, 1.1335815e-01],\n",
       "       [1.4520212e-01, 1.3347323e-01, 7.2132462e-01],\n",
       "       [9.4065857e-01, 5.0035357e-03, 5.4337841e-02]], dtype=float32)"
      ]
     },
     "execution_count": 42,
     "metadata": {},
     "output_type": "execute_result"
    }
   ],
   "source": [
    "forecasts = network.predict(test_dataset)\n",
    "forecasts      "
   ]
  },
  {
   "cell_type": "code",
   "execution_count": 43,
   "id": "ff514ad5",
   "metadata": {
    "execution": {
     "iopub.execute_input": "2021-12-03T02:16:47.500390Z",
     "iopub.status.busy": "2021-12-03T02:16:47.498824Z",
     "iopub.status.idle": "2021-12-03T02:16:47.502902Z",
     "shell.execute_reply": "2021-12-03T02:16:47.503464Z",
     "shell.execute_reply.started": "2021-12-03T00:48:34.234236Z"
    },
    "papermill": {
     "duration": 3.384984,
     "end_time": "2021-12-03T02:16:47.503642",
     "exception": false,
     "start_time": "2021-12-03T02:16:44.118658",
     "status": "completed"
    },
    "tags": []
   },
   "outputs": [
    {
     "data": {
      "text/plain": [
       "array([0, 0, 0, ..., 0, 2, 0], dtype=int64)"
      ]
     },
     "execution_count": 43,
     "metadata": {},
     "output_type": "execute_result"
    }
   ],
   "source": [
    "forecasts = np.argmax(forecasts, axis = 1)\n",
    "forecasts  "
   ]
  },
  {
   "cell_type": "code",
   "execution_count": 44,
   "id": "1653a1ef",
   "metadata": {
    "execution": {
     "iopub.execute_input": "2021-12-03T02:16:54.464871Z",
     "iopub.status.busy": "2021-12-03T02:16:54.462666Z",
     "iopub.status.idle": "2021-12-03T02:16:54.467681Z",
     "shell.execute_reply": "2021-12-03T02:16:54.467048Z",
     "shell.execute_reply.started": "2021-12-03T00:48:36.505648Z"
    },
    "papermill": {
     "duration": 3.316757,
     "end_time": "2021-12-03T02:16:54.467832",
     "exception": false,
     "start_time": "2021-12-03T02:16:51.151075",
     "status": "completed"
    },
    "tags": []
   },
   "outputs": [
    {
     "data": {
      "text/plain": [
       "array([0, 0, 0, ..., 2, 2, 2])"
      ]
     },
     "execution_count": 44,
     "metadata": {},
     "output_type": "execute_result"
    }
   ],
   "source": [
    "test_dataset.classes"
   ]
  },
  {
   "cell_type": "code",
   "execution_count": 45,
   "id": "fb920f0b",
   "metadata": {
    "execution": {
     "iopub.execute_input": "2021-12-03T02:17:01.518709Z",
     "iopub.status.busy": "2021-12-03T02:17:01.517746Z",
     "iopub.status.idle": "2021-12-03T02:17:01.679289Z",
     "shell.execute_reply": "2021-12-03T02:17:01.679826Z",
     "shell.execute_reply.started": "2021-12-03T00:48:38.593343Z"
    },
    "papermill": {
     "duration": 3.804434,
     "end_time": "2021-12-03T02:17:01.680031",
     "exception": false,
     "start_time": "2021-12-03T02:16:57.875597",
     "status": "completed"
    },
    "tags": []
   },
   "outputs": [
    {
     "data": {
      "text/plain": [
       "0.519707732900345"
      ]
     },
     "execution_count": 45,
     "metadata": {},
     "output_type": "execute_result"
    }
   ],
   "source": [
    "from sklearn.metrics import accuracy_score\n",
    "accuracy_score(test_dataset.classes, forecasts)"
   ]
  },
  {
   "cell_type": "code",
   "execution_count": 46,
   "id": "1d716821",
   "metadata": {
    "execution": {
     "iopub.execute_input": "2021-12-03T02:17:08.421259Z",
     "iopub.status.busy": "2021-12-03T02:17:08.420321Z",
     "iopub.status.idle": "2021-12-03T02:17:08.423954Z",
     "shell.execute_reply": "2021-12-03T02:17:08.424512Z",
     "shell.execute_reply.started": "2021-12-03T00:48:41.042649Z"
    },
    "papermill": {
     "duration": 3.386908,
     "end_time": "2021-12-03T02:17:08.424685",
     "exception": false,
     "start_time": "2021-12-03T02:17:05.037777",
     "status": "completed"
    },
    "tags": []
   },
   "outputs": [
    {
     "data": {
      "text/plain": [
       "{'Altered-Easy': 0, 'Altered-Hard': 1, 'Altered-Medium': 2}"
      ]
     },
     "execution_count": 46,
     "metadata": {},
     "output_type": "execute_result"
    }
   ],
   "source": [
    "test_dataset.class_indices"
   ]
  },
  {
   "cell_type": "code",
   "execution_count": 47,
   "id": "52b5873f",
   "metadata": {
    "execution": {
     "iopub.execute_input": "2021-12-03T02:17:16.060886Z",
     "iopub.status.busy": "2021-12-03T02:17:16.054276Z",
     "iopub.status.idle": "2021-12-03T02:17:16.069022Z",
     "shell.execute_reply": "2021-12-03T02:17:16.068441Z",
     "shell.execute_reply.started": "2021-12-03T00:48:42.675779Z"
    },
    "papermill": {
     "duration": 3.327508,
     "end_time": "2021-12-03T02:17:16.069201",
     "exception": false,
     "start_time": "2021-12-03T02:17:12.741693",
     "status": "completed"
    },
    "tags": []
   },
   "outputs": [
    {
     "data": {
      "text/plain": [
       "array([[16363,    60,  1508],\n",
       "       [ 4362,  1252,  8658],\n",
       "       [ 8747,   329,  7991]], dtype=int64)"
      ]
     },
     "execution_count": 47,
     "metadata": {},
     "output_type": "execute_result"
    }
   ],
   "source": [
    "from sklearn.metrics import confusion_matrix\n",
    "cm = confusion_matrix(test_dataset.classes, forecasts)\n",
    "cm"
   ]
  },
  {
   "cell_type": "code",
   "execution_count": 48,
   "id": "2502dc3f",
   "metadata": {
    "execution": {
     "iopub.execute_input": "2021-12-03T02:17:23.102986Z",
     "iopub.status.busy": "2021-12-03T02:17:23.101820Z",
     "iopub.status.idle": "2021-12-03T02:17:23.390560Z",
     "shell.execute_reply": "2021-12-03T02:17:23.391134Z",
     "shell.execute_reply.started": "2021-12-03T00:48:45.240308Z"
    },
    "papermill": {
     "duration": 3.956998,
     "end_time": "2021-12-03T02:17:23.391320",
     "exception": false,
     "start_time": "2021-12-03T02:17:19.434322",
     "status": "completed"
    },
    "tags": []
   },
   "outputs": [
    {
     "data": {
      "image/png": "[encoded data removed]",
      "text/plain": [
       "<Figure size 432x288 with 2 Axes>"
      ]
     },
     "metadata": {
      "needs_background": "light"
     },
     "output_type": "display_data"
    }
   ],
   "source": [
    "sns.heatmap(cm, annot=True);"
   ]
  },
  {
   "cell_type": "code",
   "execution_count": 49,
   "id": "0567c942",
   "metadata": {
    "execution": {
     "iopub.execute_input": "2021-12-03T02:17:30.062695Z",
     "iopub.status.busy": "2021-12-03T02:17:30.061588Z",
     "iopub.status.idle": "2021-12-03T02:17:30.072772Z",
     "shell.execute_reply": "2021-12-03T02:17:30.073351Z",
     "shell.execute_reply.started": "2021-12-03T00:48:49.24347Z"
    },
    "papermill": {
     "duration": 3.328314,
     "end_time": "2021-12-03T02:17:30.073545",
     "exception": false,
     "start_time": "2021-12-03T02:17:26.745231",
     "status": "completed"
    },
    "tags": []
   },
   "outputs": [
    {
     "name": "stdout",
     "output_type": "stream",
     "text": [
      "              precision    recall  f1-score   support\n",
      "\n",
      "           0       0.56      0.91      0.69     17931\n",
      "           1       0.76      0.09      0.16     14272\n",
      "           2       0.44      0.47      0.45     17067\n",
      "\n",
      "    accuracy                           0.52     49270\n",
      "   macro avg       0.59      0.49      0.43     49270\n",
      "weighted avg       0.58      0.52      0.45     49270\n",
      "\n"
     ]
    }
   ],
   "source": [
    "from sklearn.metrics import classification_report\n",
    "print(classification_report(test_dataset.classes, forecasts))"
   ]
  },
  {
   "cell_type": "markdown",
   "id": "b9d91380",
   "metadata": {
    "papermill": {
     "duration": 3.660284,
     "end_time": "2021-12-03T02:17:37.489421",
     "exception": false,
     "start_time": "2021-12-03T02:17:33.829137",
     "status": "completed"
    },
    "tags": []
   },
   "source": [
    "# **Single image classification**"
   ]
  },
  {
   "cell_type": "code",
   "execution_count": 104,
   "id": "70542077",
   "metadata": {
    "execution": {
     "iopub.execute_input": "2021-12-03T02:17:45.193195Z",
     "iopub.status.busy": "2021-12-03T02:17:45.192371Z",
     "iopub.status.idle": "2021-12-03T02:17:45.229400Z",
     "shell.execute_reply": "2021-12-03T02:17:45.228732Z",
     "shell.execute_reply.started": "2021-12-03T00:49:54.212829Z"
    },
    "papermill": {
     "duration": 4.411512,
     "end_time": "2021-12-03T02:17:45.229557",
     "exception": false,
     "start_time": "2021-12-03T02:17:40.818045",
     "status": "completed"
    },
    "tags": []
   },
   "outputs": [],
   "source": [
    "image = cv2.imread('D:/Anaconda/Projects/SOCOFing/Altered/Altered-Hard/10__M_Left_middle_finger_Zcut.BMP')"
   ]
  },
  {
   "cell_type": "code",
   "execution_count": 107,
   "id": "1a8e829b",
   "metadata": {},
   "outputs": [
    {
     "ename": "IndentationError",
     "evalue": "unindent does not match any outer indentation level (<tokenize>, line 3)",
     "output_type": "error",
     "traceback": [
      "\u001b[1;36m  File \u001b[1;32m\"<tokenize>\"\u001b[1;36m, line \u001b[1;32m3\u001b[0m\n\u001b[1;33m    plt.show()\u001b[0m\n\u001b[1;37m    ^\u001b[0m\n\u001b[1;31mIndentationError\u001b[0m\u001b[1;31m:\u001b[0m unindent does not match any outer indentation level\n"
     ]
    }
   ],
   "source": [
    "image = X_batch[0]\n",
    "        plt.imshow(image)\n",
    "    plt.show()"
   ]
  },
  {
   "cell_type": "code",
   "execution_count": 105,
   "id": "b5288c37",
   "metadata": {
    "execution": {
     "iopub.execute_input": "2021-12-03T02:17:51.842528Z",
     "iopub.status.busy": "2021-12-03T02:17:51.841800Z",
     "iopub.status.idle": "2021-12-03T02:17:51.975565Z",
     "shell.execute_reply": "2021-12-03T02:17:51.976137Z",
     "shell.execute_reply.started": "2021-12-03T00:49:56.051282Z"
    },
    "papermill": {
     "duration": 3.432729,
     "end_time": "2021-12-03T02:17:51.976321",
     "exception": false,
     "start_time": "2021-12-03T02:17:48.543592",
     "status": "completed"
    },
    "tags": []
   },
   "outputs": [
    {
     "ename": "error",
     "evalue": "OpenCV(4.5.4) :-1: error: (-5:Bad argument) in function 'imshow'\n> Overload resolution failed:\n>  - imshow() missing required argument 'mat' (pos 2)\n>  - imshow() missing required argument 'mat' (pos 2)\n>  - imshow() missing required argument 'mat' (pos 2)\n",
     "output_type": "error",
     "traceback": [
      "\u001b[1;31m---------------------------------------------------------------------------\u001b[0m",
      "\u001b[1;31merror\u001b[0m                                     Traceback (most recent call last)",
      "\u001b[1;32mC:\\Users\\NIGHTM~1\\AppData\\Local\\Temp/ipykernel_136928/1068966005.py\u001b[0m in \u001b[0;36m<module>\u001b[1;34m\u001b[0m\n\u001b[1;32m----> 1\u001b[1;33m \u001b[0mcv2\u001b[0m\u001b[1;33m.\u001b[0m\u001b[0mimshow\u001b[0m\u001b[1;33m(\u001b[0m\u001b[0mimage\u001b[0m\u001b[1;33m)\u001b[0m\u001b[1;33m\u001b[0m\u001b[1;33m\u001b[0m\u001b[0m\n\u001b[0m",
      "\u001b[1;31merror\u001b[0m: OpenCV(4.5.4) :-1: error: (-5:Bad argument) in function 'imshow'\n> Overload resolution failed:\n>  - imshow() missing required argument 'mat' (pos 2)\n>  - imshow() missing required argument 'mat' (pos 2)\n>  - imshow() missing required argument 'mat' (pos 2)\n"
     ]
    }
   ],
   "source": [
    "cv2.imshow(image)"
   ]
  },
  {
   "cell_type": "code",
   "execution_count": 96,
   "id": "c5671b5e",
   "metadata": {
    "execution": {
     "iopub.execute_input": "2021-12-03T02:17:58.993671Z",
     "iopub.status.busy": "2021-12-03T02:17:58.992946Z",
     "iopub.status.idle": "2021-12-03T02:17:59.003251Z",
     "shell.execute_reply": "2021-12-03T02:17:59.002318Z",
     "shell.execute_reply.started": "2021-12-03T00:49:59.270851Z"
    },
    "papermill": {
     "duration": 3.347007,
     "end_time": "2021-12-03T02:17:59.003430",
     "exception": false,
     "start_time": "2021-12-03T02:17:55.656423",
     "status": "completed"
    },
    "tags": []
   },
   "outputs": [],
   "source": [
    "image = cv2.resize(image, (64, 64))\n",
    "cv2.imshow('Show',image)"
   ]
  },
  {
   "cell_type": "code",
   "execution_count": 97,
   "id": "6724c04a",
   "metadata": {
    "execution": {
     "iopub.execute_input": "2021-12-03T02:18:05.865001Z",
     "iopub.status.busy": "2021-12-03T02:18:05.861783Z",
     "iopub.status.idle": "2021-12-03T02:18:05.874745Z",
     "shell.execute_reply": "2021-12-03T02:18:05.876588Z",
     "shell.execute_reply.started": "2021-12-03T00:50:01.395467Z"
    },
    "papermill": {
     "duration": 3.512403,
     "end_time": "2021-12-03T02:18:05.876875",
     "exception": false,
     "start_time": "2021-12-03T02:18:02.364472",
     "status": "completed"
    },
    "tags": []
   },
   "outputs": [
    {
     "data": {
      "text/plain": [
       "array([[0.61176471, 0.56078431, 0.56078431, ..., 0.14117647, 0.        ,\n",
       "        0.        ],\n",
       "       [0.57254902, 0.81568627, 0.94901961, ..., 0.23921569, 0.        ,\n",
       "        0.        ],\n",
       "       [0.57254902, 0.85098039, 1.        , ..., 0.25098039, 0.        ,\n",
       "        0.        ],\n",
       "       ...,\n",
       "       [0.30196078, 0.32156863, 0.41176471, ..., 0.11764706, 0.        ,\n",
       "        0.        ],\n",
       "       [0.        , 0.        , 0.        , ..., 0.        , 0.        ,\n",
       "        0.        ],\n",
       "       [0.        , 0.        , 0.        , ..., 0.        , 0.        ,\n",
       "        0.        ]])"
      ]
     },
     "execution_count": 97,
     "metadata": {},
     "output_type": "execute_result"
    }
   ],
   "source": [
    "image = image / 255\n",
    "image"
   ]
  },
  {
   "cell_type": "code",
   "execution_count": 98,
   "id": "62210908",
   "metadata": {
    "execution": {
     "iopub.execute_input": "2021-12-03T02:18:12.951615Z",
     "iopub.status.busy": "2021-12-03T02:18:12.950735Z",
     "iopub.status.idle": "2021-12-03T02:18:12.954312Z",
     "shell.execute_reply": "2021-12-03T02:18:12.954852Z",
     "shell.execute_reply.started": "2021-12-03T00:50:03.913116Z"
    },
    "papermill": {
     "duration": 3.467134,
     "end_time": "2021-12-03T02:18:12.955033",
     "exception": false,
     "start_time": "2021-12-03T02:18:09.487899",
     "status": "completed"
    },
    "tags": []
   },
   "outputs": [
    {
     "data": {
      "text/plain": [
       "(64, 64)"
      ]
     },
     "execution_count": 98,
     "metadata": {},
     "output_type": "execute_result"
    }
   ],
   "source": [
    "image.shape"
   ]
  },
  {
   "cell_type": "code",
   "execution_count": 99,
   "id": "345e94ec",
   "metadata": {
    "execution": {
     "iopub.execute_input": "2021-12-03T02:18:20.568713Z",
     "iopub.status.busy": "2021-12-03T02:18:20.567829Z",
     "iopub.status.idle": "2021-12-03T02:18:20.571446Z",
     "shell.execute_reply": "2021-12-03T02:18:20.571997Z",
     "shell.execute_reply.started": "2021-12-03T00:50:05.299584Z"
    },
    "papermill": {
     "duration": 3.549077,
     "end_time": "2021-12-03T02:18:20.572203",
     "exception": false,
     "start_time": "2021-12-03T02:18:17.023126",
     "status": "completed"
    },
    "tags": []
   },
   "outputs": [
    {
     "ename": "ValueError",
     "evalue": "cannot reshape array of size 4096 into shape (64,64,3)",
     "output_type": "error",
     "traceback": [
      "\u001b[1;31m---------------------------------------------------------------------------\u001b[0m",
      "\u001b[1;31mValueError\u001b[0m                                Traceback (most recent call last)",
      "\u001b[1;32mC:\\Users\\NIGHTM~1\\AppData\\Local\\Temp/ipykernel_136928/3780131756.py\u001b[0m in \u001b[0;36m<module>\u001b[1;34m\u001b[0m\n\u001b[1;32m----> 1\u001b[1;33m \u001b[0mimage\u001b[0m \u001b[1;33m=\u001b[0m \u001b[0mimage\u001b[0m\u001b[1;33m.\u001b[0m\u001b[0mreshape\u001b[0m\u001b[1;33m(\u001b[0m\u001b[1;33m-\u001b[0m\u001b[1;36m1\u001b[0m\u001b[1;33m,\u001b[0m \u001b[1;36m64\u001b[0m\u001b[1;33m,\u001b[0m \u001b[1;36m64\u001b[0m\u001b[1;33m,\u001b[0m \u001b[1;36m3\u001b[0m\u001b[1;33m)\u001b[0m\u001b[1;33m\u001b[0m\u001b[1;33m\u001b[0m\u001b[0m\n\u001b[0m\u001b[0;32m      2\u001b[0m \u001b[0mimage\u001b[0m\u001b[1;33m.\u001b[0m\u001b[0mshape\u001b[0m\u001b[1;33m\u001b[0m\u001b[1;33m\u001b[0m\u001b[0m\n",
      "\u001b[1;31mValueError\u001b[0m: cannot reshape array of size 4096 into shape (64,64,3)"
     ]
    }
   ],
   "source": [
    "image = image.reshape(-1, 64, 64, 3)\n",
    "image.shape"
   ]
  },
  {
   "cell_type": "code",
   "execution_count": 100,
   "id": "c36330d6",
   "metadata": {
    "execution": {
     "iopub.execute_input": "2021-12-03T02:18:27.310015Z",
     "iopub.status.busy": "2021-12-03T02:18:27.309320Z",
     "iopub.status.idle": "2021-12-03T02:18:27.335412Z",
     "shell.execute_reply": "2021-12-03T02:18:27.336010Z",
     "shell.execute_reply.started": "2021-12-03T00:50:07.10755Z"
    },
    "papermill": {
     "duration": 3.357341,
     "end_time": "2021-12-03T02:18:27.336218",
     "exception": false,
     "start_time": "2021-12-03T02:18:23.978877",
     "status": "completed"
    },
    "tags": []
   },
   "outputs": [
    {
     "ename": "ValueError",
     "evalue": "Exception encountered when calling layer \"sequential_1\" (type Sequential).\n\nInput 0 of layer \"conv2d_2\" is incompatible with the layer: expected min_ndim=4, found ndim=2. Full shape received: (64, 64)\n\nCall arguments received:\n  • inputs=tf.Tensor(shape=(64, 64), dtype=float64)\n  • training=None\n  • mask=None",
     "output_type": "error",
     "traceback": [
      "\u001b[1;31m---------------------------------------------------------------------------\u001b[0m",
      "\u001b[1;31mValueError\u001b[0m                                Traceback (most recent call last)",
      "\u001b[1;32mC:\\Users\\NIGHTM~1\\AppData\\Local\\Temp/ipykernel_136928/2458299539.py\u001b[0m in \u001b[0;36m<module>\u001b[1;34m\u001b[0m\n\u001b[1;32m----> 1\u001b[1;33m \u001b[0mresult\u001b[0m \u001b[1;33m=\u001b[0m \u001b[0mnetwork\u001b[0m\u001b[1;33m(\u001b[0m\u001b[0mimage\u001b[0m\u001b[1;33m)\u001b[0m\u001b[1;33m\u001b[0m\u001b[1;33m\u001b[0m\u001b[0m\n\u001b[0m\u001b[0;32m      2\u001b[0m \u001b[0mresult\u001b[0m\u001b[1;33m\u001b[0m\u001b[1;33m\u001b[0m\u001b[0m\n",
      "\u001b[1;32mD:\\Anaconda\\lib\\site-packages\\keras\\utils\\traceback_utils.py\u001b[0m in \u001b[0;36merror_handler\u001b[1;34m(*args, **kwargs)\u001b[0m\n\u001b[0;32m     65\u001b[0m     \u001b[1;32mexcept\u001b[0m \u001b[0mException\u001b[0m \u001b[1;32mas\u001b[0m \u001b[0me\u001b[0m\u001b[1;33m:\u001b[0m  \u001b[1;31m# pylint: disable=broad-except\u001b[0m\u001b[1;33m\u001b[0m\u001b[1;33m\u001b[0m\u001b[0m\n\u001b[0;32m     66\u001b[0m       \u001b[0mfiltered_tb\u001b[0m \u001b[1;33m=\u001b[0m \u001b[0m_process_traceback_frames\u001b[0m\u001b[1;33m(\u001b[0m\u001b[0me\u001b[0m\u001b[1;33m.\u001b[0m\u001b[0m__traceback__\u001b[0m\u001b[1;33m)\u001b[0m\u001b[1;33m\u001b[0m\u001b[1;33m\u001b[0m\u001b[0m\n\u001b[1;32m---> 67\u001b[1;33m       \u001b[1;32mraise\u001b[0m \u001b[0me\u001b[0m\u001b[1;33m.\u001b[0m\u001b[0mwith_traceback\u001b[0m\u001b[1;33m(\u001b[0m\u001b[0mfiltered_tb\u001b[0m\u001b[1;33m)\u001b[0m \u001b[1;32mfrom\u001b[0m \u001b[1;32mNone\u001b[0m\u001b[1;33m\u001b[0m\u001b[1;33m\u001b[0m\u001b[0m\n\u001b[0m\u001b[0;32m     68\u001b[0m     \u001b[1;32mfinally\u001b[0m\u001b[1;33m:\u001b[0m\u001b[1;33m\u001b[0m\u001b[1;33m\u001b[0m\u001b[0m\n\u001b[0;32m     69\u001b[0m       \u001b[1;32mdel\u001b[0m \u001b[0mfiltered_tb\u001b[0m\u001b[1;33m\u001b[0m\u001b[1;33m\u001b[0m\u001b[0m\n",
      "\u001b[1;32mD:\\Anaconda\\lib\\site-packages\\keras\\engine\\input_spec.py\u001b[0m in \u001b[0;36massert_input_compatibility\u001b[1;34m(input_spec, inputs, layer_name)\u001b[0m\n\u001b[0;32m    225\u001b[0m       \u001b[0mndim\u001b[0m \u001b[1;33m=\u001b[0m \u001b[0mx\u001b[0m\u001b[1;33m.\u001b[0m\u001b[0mshape\u001b[0m\u001b[1;33m.\u001b[0m\u001b[0mrank\u001b[0m\u001b[1;33m\u001b[0m\u001b[1;33m\u001b[0m\u001b[0m\n\u001b[0;32m    226\u001b[0m       \u001b[1;32mif\u001b[0m \u001b[0mndim\u001b[0m \u001b[1;32mis\u001b[0m \u001b[1;32mnot\u001b[0m \u001b[1;32mNone\u001b[0m \u001b[1;32mand\u001b[0m \u001b[0mndim\u001b[0m \u001b[1;33m<\u001b[0m \u001b[0mspec\u001b[0m\u001b[1;33m.\u001b[0m\u001b[0mmin_ndim\u001b[0m\u001b[1;33m:\u001b[0m\u001b[1;33m\u001b[0m\u001b[1;33m\u001b[0m\u001b[0m\n\u001b[1;32m--> 227\u001b[1;33m         raise ValueError(f'Input {input_index} of layer \"{layer_name}\" '\n\u001b[0m\u001b[0;32m    228\u001b[0m                          \u001b[1;34m'is incompatible with the layer: '\u001b[0m\u001b[1;33m\u001b[0m\u001b[1;33m\u001b[0m\u001b[0m\n\u001b[0;32m    229\u001b[0m                          \u001b[1;34mf'expected min_ndim={spec.min_ndim}, '\u001b[0m\u001b[1;33m\u001b[0m\u001b[1;33m\u001b[0m\u001b[0m\n",
      "\u001b[1;31mValueError\u001b[0m: Exception encountered when calling layer \"sequential_1\" (type Sequential).\n\nInput 0 of layer \"conv2d_2\" is incompatible with the layer: expected min_ndim=4, found ndim=2. Full shape received: (64, 64)\n\nCall arguments received:\n  • inputs=tf.Tensor(shape=(64, 64), dtype=float64)\n  • training=None\n  • mask=None"
     ]
    }
   ],
   "source": [
    "result = network(image)\n",
    "result"
   ]
  },
  {
   "cell_type": "code",
   "execution_count": 101,
   "id": "c6b0a32c",
   "metadata": {
    "execution": {
     "iopub.execute_input": "2021-12-03T02:18:34.409319Z",
     "iopub.status.busy": "2021-12-03T02:18:34.408342Z",
     "iopub.status.idle": "2021-12-03T02:18:34.411894Z",
     "shell.execute_reply": "2021-12-03T02:18:34.412451Z",
     "shell.execute_reply.started": "2021-12-03T00:50:09.136289Z"
    },
    "papermill": {
     "duration": 3.414834,
     "end_time": "2021-12-03T02:18:34.412630",
     "exception": false,
     "start_time": "2021-12-03T02:18:30.997796",
     "status": "completed"
    },
    "tags": []
   },
   "outputs": [
    {
     "data": {
      "text/plain": [
       "0"
      ]
     },
     "execution_count": 101,
     "metadata": {},
     "output_type": "execute_result"
    }
   ],
   "source": [
    "result = np.argmax(result)\n",
    "result"
   ]
  },
  {
   "cell_type": "code",
   "execution_count": 102,
   "id": "2241f109",
   "metadata": {
    "execution": {
     "iopub.execute_input": "2021-12-03T02:18:41.501024Z",
     "iopub.status.busy": "2021-12-03T02:18:41.500169Z",
     "iopub.status.idle": "2021-12-03T02:18:41.503913Z",
     "shell.execute_reply": "2021-12-03T02:18:41.504496Z",
     "shell.execute_reply.started": "2021-12-03T00:50:11.049476Z"
    },
    "papermill": {
     "duration": 3.732756,
     "end_time": "2021-12-03T02:18:41.504680",
     "exception": false,
     "start_time": "2021-12-03T02:18:37.771924",
     "status": "completed"
    },
    "tags": []
   },
   "outputs": [
    {
     "data": {
      "text/plain": [
       "{'Altered-Easy': 0, 'Altered-Hard': 1, 'Altered-Medium': 2}"
      ]
     },
     "execution_count": 102,
     "metadata": {},
     "output_type": "execute_result"
    }
   ],
   "source": [
    "test_dataset.class_indices"
   ]
  },
  {
   "cell_type": "code",
   "execution_count": 103,
   "id": "ac642c8b",
   "metadata": {
    "execution": {
     "iopub.execute_input": "2021-12-03T02:18:48.315576Z",
     "iopub.status.busy": "2021-12-03T02:18:48.314442Z",
     "iopub.status.idle": "2021-12-03T02:18:48.323414Z",
     "shell.execute_reply": "2021-12-03T02:18:48.324225Z",
     "shell.execute_reply.started": "2021-12-03T00:50:12.641594Z"
    },
    "papermill": {
     "duration": 3.476441,
     "end_time": "2021-12-03T02:18:48.324529",
     "exception": false,
     "start_time": "2021-12-03T02:18:44.848088",
     "status": "completed"
    },
    "tags": []
   },
   "outputs": [
    {
     "name": "stdout",
     "output_type": "stream",
     "text": [
      "Altered-Easy\n"
     ]
    }
   ],
   "source": [
    "if result == 0:\n",
    "  print('Altered-Easy')\n",
    "else:\n",
    " if result == 1:\n",
    "    print('Altered-Hard')\n",
    " else:\n",
    "    print('Altered-Medium')"
   ]
  },
  {
   "cell_type": "markdown",
   "id": "8955ee21",
   "metadata": {
    "papermill": {
     "duration": 3.328741,
     "end_time": "2021-12-03T02:18:55.921173",
     "exception": false,
     "start_time": "2021-12-03T02:18:52.592432",
     "status": "completed"
    },
    "tags": []
   },
   "source": [
    "# **If you find this notebook useful, support with an upvote** 👍¶¶"
   ]
  }
 ],
 "metadata": {
  "kernelspec": {
   "display_name": "Python 3 (ipykernel)",
   "language": "python",
   "name": "python3"
  },
  "language_info": {
   "codemirror_mode": {
    "name": "ipython",
    "version": 3
   },
   "file_extension": ".py",
   "mimetype": "text/x-python",
   "name": "python",
   "nbconvert_exporter": "python",
   "pygments_lexer": "ipython3",
   "version": "3.9.7"
  },
  "papermill": {
   "default_parameters": {},
   "duration": 2508.779515,
   "end_time": "2021-12-03T02:19:02.897832",
   "environment_variables": {},
   "exception": null,
   "input_path": "__notebook__.ipynb",
   "output_path": "__notebook__.ipynb",
   "parameters": {},
   "start_time": "2021-12-03T01:37:14.118317",
   "version": "2.3.3"
  }
 },
 "nbformat": 4,
 "nbformat_minor": 5
}
